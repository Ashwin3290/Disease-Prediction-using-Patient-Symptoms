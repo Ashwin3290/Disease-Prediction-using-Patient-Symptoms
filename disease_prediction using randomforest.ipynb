{
  "nbformat": 4,
  "nbformat_minor": 0,
  "metadata": {
    "colab": {
      "provenance": []
    },
    "kernelspec": {
      "name": "python3",
      "display_name": "Python 3"
    },
    "language_info": {
      "name": "python"
    },
    "accelerator": "GPU",
    "gpuClass": "standard"
  },
  "cells": [
    {
      "cell_type": "code",
      "execution_count": null,
      "metadata": {
        "colab": {
          "base_uri": "https://localhost:8080/"
        },
        "id": "tfx069NLQ7ZZ",
        "outputId": "971b0d29-e3c4-4245-c356-029a509a428a"
      },
      "outputs": [
        {
          "output_type": "stream",
          "name": "stdout",
          "text": [
            "Archive:  /content/disease symptom analysis.zip\n",
            "  inflating: Symptom-severity.csv    \n",
            "  inflating: dataset.csv             \n",
            "  inflating: symptom_Description.csv  \n",
            "  inflating: symptom_precaution.csv  \n"
          ]
        }
      ],
      "source": [
        "!unzip \"/content/disease symptom analysis.zip\""
      ]
    },
    {
      "cell_type": "code",
      "source": [
        "!pip uninstall scikit-learn -y\n",
        "\n",
        "!pip install -U scikit-learn"
      ],
      "metadata": {
        "id": "GRrNhBofeVjt",
        "colab": {
          "base_uri": "https://localhost:8080/"
        },
        "outputId": "925b0475-1fda-43bd-eb4f-cd39105a1d7b"
      },
      "execution_count": null,
      "outputs": [
        {
          "output_type": "stream",
          "name": "stdout",
          "text": [
            "Found existing installation: scikit-learn 1.0.2\n",
            "Uninstalling scikit-learn-1.0.2:\n",
            "  Successfully uninstalled scikit-learn-1.0.2\n",
            "Looking in indexes: https://pypi.org/simple, https://us-python.pkg.dev/colab-wheels/public/simple/\n",
            "Collecting scikit-learn\n",
            "  Downloading scikit_learn-1.2.1-cp38-cp38-manylinux_2_17_x86_64.manylinux2014_x86_64.whl (9.8 MB)\n",
            "\u001b[2K     \u001b[90m━━━━━━━━━━━━━━━━━━━━━━━━━━━━━━━━━━━━━━━━\u001b[0m \u001b[32m9.8/9.8 MB\u001b[0m \u001b[31m70.2 MB/s\u001b[0m eta \u001b[36m0:00:00\u001b[0m\n",
            "\u001b[?25hRequirement already satisfied: numpy>=1.17.3 in /usr/local/lib/python3.8/dist-packages (from scikit-learn) (1.21.6)\n",
            "Requirement already satisfied: scipy>=1.3.2 in /usr/local/lib/python3.8/dist-packages (from scikit-learn) (1.7.3)\n",
            "Requirement already satisfied: joblib>=1.1.1 in /usr/local/lib/python3.8/dist-packages (from scikit-learn) (1.2.0)\n",
            "Requirement already satisfied: threadpoolctl>=2.0.0 in /usr/local/lib/python3.8/dist-packages (from scikit-learn) (3.1.0)\n",
            "Installing collected packages: scikit-learn\n",
            "Successfully installed scikit-learn-1.2.1\n"
          ]
        }
      ]
    },
    {
      "cell_type": "code",
      "source": [
        "import pandas as pd \n",
        "import numpy as np\n",
        "from sklearn.ensemble import RandomForestClassifier"
      ],
      "metadata": {
        "id": "OzybBa7ySGE8"
      },
      "execution_count": null,
      "outputs": []
    },
    {
      "cell_type": "code",
      "source": [
        "symptoms=pd.read_csv(\"/content/Symptom-severity.csv\")\n",
        "data=pd.read_csv(\"/content/dataset.csv\")\n",
        "symp_new=sum(symptoms[[\"Symptom\"]].values.tolist(),[])\n",
        "symp_new\n"
      ],
      "metadata": {
        "colab": {
          "base_uri": "https://localhost:8080/"
        },
        "id": "AkmwQFaoZs1a",
        "outputId": "ba837325-377b-4206-bf16-1d285bf4136d"
      },
      "execution_count": null,
      "outputs": [
        {
          "output_type": "execute_result",
          "data": {
            "text/plain": [
              "['itching',\n",
              " 'skin_rash',\n",
              " 'nodal_skin_eruptions',\n",
              " 'continuous_sneezing',\n",
              " 'shivering',\n",
              " 'chills',\n",
              " 'joint_pain',\n",
              " 'stomach_pain',\n",
              " 'acidity',\n",
              " 'ulcers_on_tongue',\n",
              " 'muscle_wasting',\n",
              " 'vomiting',\n",
              " 'burning_micturition',\n",
              " 'spotting_urination',\n",
              " 'fatigue',\n",
              " 'weight_gain',\n",
              " 'anxiety',\n",
              " 'cold_hands_and_feets',\n",
              " 'mood_swings',\n",
              " 'weight_loss',\n",
              " 'restlessness',\n",
              " 'lethargy',\n",
              " 'patches_in_throat',\n",
              " 'irregular_sugar_level',\n",
              " 'cough',\n",
              " 'high_fever',\n",
              " 'sunken_eyes',\n",
              " 'breathlessness',\n",
              " 'sweating',\n",
              " 'dehydration',\n",
              " 'indigestion',\n",
              " 'headache',\n",
              " 'yellowish_skin',\n",
              " 'dark_urine',\n",
              " 'nausea',\n",
              " 'loss_of_appetite',\n",
              " 'pain_behind_the_eyes',\n",
              " 'back_pain',\n",
              " 'constipation',\n",
              " 'abdominal_pain',\n",
              " 'diarrhoea',\n",
              " 'mild_fever',\n",
              " 'yellow_urine',\n",
              " 'yellowing_of_eyes',\n",
              " 'acute_liver_failure',\n",
              " 'fluid_overload',\n",
              " 'swelling_of_stomach',\n",
              " 'swelled_lymph_nodes',\n",
              " 'malaise',\n",
              " 'blurred_and_distorted_vision',\n",
              " 'phlegm',\n",
              " 'throat_irritation',\n",
              " 'redness_of_eyes',\n",
              " 'sinus_pressure',\n",
              " 'runny_nose',\n",
              " 'congestion',\n",
              " 'chest_pain',\n",
              " 'weakness_in_limbs',\n",
              " 'fast_heart_rate',\n",
              " 'pain_during_bowel_movements',\n",
              " 'pain_in_anal_region',\n",
              " 'bloody_stool',\n",
              " 'irritation_in_anus',\n",
              " 'neck_pain',\n",
              " 'dizziness',\n",
              " 'cramps',\n",
              " 'bruising',\n",
              " 'obesity',\n",
              " 'swollen_legs',\n",
              " 'swollen_blood_vessels',\n",
              " 'puffy_face_and_eyes',\n",
              " 'enlarged_thyroid',\n",
              " 'brittle_nails',\n",
              " 'swollen_extremeties',\n",
              " 'excessive_hunger',\n",
              " 'extra_marital_contacts',\n",
              " 'drying_and_tingling_lips',\n",
              " 'slurred_speech',\n",
              " 'knee_pain',\n",
              " 'hip_joint_pain',\n",
              " 'muscle_weakness',\n",
              " 'stiff_neck',\n",
              " 'swelling_joints',\n",
              " 'movement_stiffness',\n",
              " 'spinning_movements',\n",
              " 'loss_of_balance',\n",
              " 'unsteadiness',\n",
              " 'weakness_of_one_body_side',\n",
              " 'loss_of_smell',\n",
              " 'bladder_discomfort',\n",
              " 'foul_smell_ofurine',\n",
              " 'continuous_feel_of_urine',\n",
              " 'passage_of_gases',\n",
              " 'internal_itching',\n",
              " 'toxic_look_(typhos)',\n",
              " 'depression',\n",
              " 'irritability',\n",
              " 'muscle_pain',\n",
              " 'altered_sensorium',\n",
              " 'red_spots_over_body',\n",
              " 'belly_pain',\n",
              " 'abnormal_menstruation',\n",
              " 'dischromic_patches',\n",
              " 'watering_from_eyes',\n",
              " 'increased_appetite',\n",
              " 'polyuria',\n",
              " 'family_history',\n",
              " 'mucoid_sputum',\n",
              " 'rusty_sputum',\n",
              " 'lack_of_concentration',\n",
              " 'visual_disturbances',\n",
              " 'receiving_blood_transfusion',\n",
              " 'receiving_unsterile_injections',\n",
              " 'coma',\n",
              " 'stomach_bleeding',\n",
              " 'distention_of_abdomen',\n",
              " 'history_of_alcohol_consumption',\n",
              " 'fluid_overload',\n",
              " 'blood_in_sputum',\n",
              " 'prominent_veins_on_calf',\n",
              " 'palpitations',\n",
              " 'painful_walking',\n",
              " 'pus_filled_pimples',\n",
              " 'blackheads',\n",
              " 'scurring',\n",
              " 'skin_peeling',\n",
              " 'silver_like_dusting',\n",
              " 'small_dents_in_nails',\n",
              " 'inflammatory_nails',\n",
              " 'blister',\n",
              " 'red_sore_around_nose',\n",
              " 'yellow_crust_ooze',\n",
              " 'prognosis']"
            ]
          },
          "metadata": {},
          "execution_count": 22
        }
      ]
    },
    {
      "cell_type": "code",
      "source": [
        "values = [0.0] * 133\n",
        "encoded = []\n",
        "\n",
        "for i in range(len(data)):\n",
        "    row = data.iloc[i].values\n",
        "    temp = dict(zip(symp_new, values))\n",
        "\n",
        "    for i in row:\n",
        "        if i is not np.nan:\n",
        "            temp[i.strip()] = 1.0\n",
        "\n",
        "    encoded.append(temp)\n",
        "\n",
        "pre_process = pd.DataFrame(data=encoded)\n",
        "pre_process['disease'] = data['Disease']\n",
        "pre_process.fillna(value=0,inplace=True)\n",
        "\n",
        "pre_process.to_csv('pre_processed.csv')\n",
        "df=pd.read_csv('pre_processed.csv')\n",
        "df.drop(df.columns[0],axis=1, inplace=True)"
      ],
      "metadata": {
        "id": "EmIoqbiItJ9H"
      },
      "execution_count": null,
      "outputs": []
    },
    {
      "cell_type": "code",
      "source": [
        "df.head()"
      ],
      "metadata": {
        "colab": {
          "base_uri": "https://localhost:8080/",
          "height": 438
        },
        "id": "EgLInXOmp_0O",
        "outputId": "fe8ca18e-c325-4e9b-f024-a581a8562b35"
      },
      "execution_count": null,
      "outputs": [
        {
          "output_type": "execute_result",
          "data": {
            "text/plain": [
              "   itching  skin_rash  nodal_skin_eruptions  continuous_sneezing  shivering  \\\n",
              "0      1.0        1.0                   1.0                  0.0        0.0   \n",
              "1      0.0        1.0                   1.0                  0.0        0.0   \n",
              "2      1.0        0.0                   1.0                  0.0        0.0   \n",
              "3      1.0        1.0                   0.0                  0.0        0.0   \n",
              "4      1.0        1.0                   1.0                  0.0        0.0   \n",
              "\n",
              "   chills  joint_pain  stomach_pain  acidity  ulcers_on_tongue  ...  \\\n",
              "0     0.0         0.0           0.0      0.0               0.0  ...   \n",
              "1     0.0         0.0           0.0      0.0               0.0  ...   \n",
              "2     0.0         0.0           0.0      0.0               0.0  ...   \n",
              "3     0.0         0.0           0.0      0.0               0.0  ...   \n",
              "4     0.0         0.0           0.0      0.0               0.0  ...   \n",
              "\n",
              "   Hypoglycemia  Osteoarthristis  Arthritis  \\\n",
              "0           0.0              0.0        0.0   \n",
              "1           0.0              0.0        0.0   \n",
              "2           0.0              0.0        0.0   \n",
              "3           0.0              0.0        0.0   \n",
              "4           0.0              0.0        0.0   \n",
              "\n",
              "   (vertigo) Paroymsal  Positional Vertigo  Acne  Urinary tract infection  \\\n",
              "0                                      0.0   0.0                      0.0   \n",
              "1                                      0.0   0.0                      0.0   \n",
              "2                                      0.0   0.0                      0.0   \n",
              "3                                      0.0   0.0                      0.0   \n",
              "4                                      0.0   0.0                      0.0   \n",
              "\n",
              "   foul_smell_of urine  Psoriasis  Impetigo           disease  \n",
              "0                  0.0        0.0       0.0  Fungal infection  \n",
              "1                  0.0        0.0       0.0  Fungal infection  \n",
              "2                  0.0        0.0       0.0  Fungal infection  \n",
              "3                  0.0        0.0       0.0  Fungal infection  \n",
              "4                  0.0        0.0       0.0  Fungal infection  \n",
              "\n",
              "[5 rows x 177 columns]"
            ],
            "text/html": [
              "\n",
              "  <div id=\"df-702f90fe-b468-4223-9f79-fbf184eaeaea\">\n",
              "    <div class=\"colab-df-container\">\n",
              "      <div>\n",
              "<style scoped>\n",
              "    .dataframe tbody tr th:only-of-type {\n",
              "        vertical-align: middle;\n",
              "    }\n",
              "\n",
              "    .dataframe tbody tr th {\n",
              "        vertical-align: top;\n",
              "    }\n",
              "\n",
              "    .dataframe thead th {\n",
              "        text-align: right;\n",
              "    }\n",
              "</style>\n",
              "<table border=\"1\" class=\"dataframe\">\n",
              "  <thead>\n",
              "    <tr style=\"text-align: right;\">\n",
              "      <th></th>\n",
              "      <th>itching</th>\n",
              "      <th>skin_rash</th>\n",
              "      <th>nodal_skin_eruptions</th>\n",
              "      <th>continuous_sneezing</th>\n",
              "      <th>shivering</th>\n",
              "      <th>chills</th>\n",
              "      <th>joint_pain</th>\n",
              "      <th>stomach_pain</th>\n",
              "      <th>acidity</th>\n",
              "      <th>ulcers_on_tongue</th>\n",
              "      <th>...</th>\n",
              "      <th>Hypoglycemia</th>\n",
              "      <th>Osteoarthristis</th>\n",
              "      <th>Arthritis</th>\n",
              "      <th>(vertigo) Paroymsal  Positional Vertigo</th>\n",
              "      <th>Acne</th>\n",
              "      <th>Urinary tract infection</th>\n",
              "      <th>foul_smell_of urine</th>\n",
              "      <th>Psoriasis</th>\n",
              "      <th>Impetigo</th>\n",
              "      <th>disease</th>\n",
              "    </tr>\n",
              "  </thead>\n",
              "  <tbody>\n",
              "    <tr>\n",
              "      <th>0</th>\n",
              "      <td>1.0</td>\n",
              "      <td>1.0</td>\n",
              "      <td>1.0</td>\n",
              "      <td>0.0</td>\n",
              "      <td>0.0</td>\n",
              "      <td>0.0</td>\n",
              "      <td>0.0</td>\n",
              "      <td>0.0</td>\n",
              "      <td>0.0</td>\n",
              "      <td>0.0</td>\n",
              "      <td>...</td>\n",
              "      <td>0.0</td>\n",
              "      <td>0.0</td>\n",
              "      <td>0.0</td>\n",
              "      <td>0.0</td>\n",
              "      <td>0.0</td>\n",
              "      <td>0.0</td>\n",
              "      <td>0.0</td>\n",
              "      <td>0.0</td>\n",
              "      <td>0.0</td>\n",
              "      <td>Fungal infection</td>\n",
              "    </tr>\n",
              "    <tr>\n",
              "      <th>1</th>\n",
              "      <td>0.0</td>\n",
              "      <td>1.0</td>\n",
              "      <td>1.0</td>\n",
              "      <td>0.0</td>\n",
              "      <td>0.0</td>\n",
              "      <td>0.0</td>\n",
              "      <td>0.0</td>\n",
              "      <td>0.0</td>\n",
              "      <td>0.0</td>\n",
              "      <td>0.0</td>\n",
              "      <td>...</td>\n",
              "      <td>0.0</td>\n",
              "      <td>0.0</td>\n",
              "      <td>0.0</td>\n",
              "      <td>0.0</td>\n",
              "      <td>0.0</td>\n",
              "      <td>0.0</td>\n",
              "      <td>0.0</td>\n",
              "      <td>0.0</td>\n",
              "      <td>0.0</td>\n",
              "      <td>Fungal infection</td>\n",
              "    </tr>\n",
              "    <tr>\n",
              "      <th>2</th>\n",
              "      <td>1.0</td>\n",
              "      <td>0.0</td>\n",
              "      <td>1.0</td>\n",
              "      <td>0.0</td>\n",
              "      <td>0.0</td>\n",
              "      <td>0.0</td>\n",
              "      <td>0.0</td>\n",
              "      <td>0.0</td>\n",
              "      <td>0.0</td>\n",
              "      <td>0.0</td>\n",
              "      <td>...</td>\n",
              "      <td>0.0</td>\n",
              "      <td>0.0</td>\n",
              "      <td>0.0</td>\n",
              "      <td>0.0</td>\n",
              "      <td>0.0</td>\n",
              "      <td>0.0</td>\n",
              "      <td>0.0</td>\n",
              "      <td>0.0</td>\n",
              "      <td>0.0</td>\n",
              "      <td>Fungal infection</td>\n",
              "    </tr>\n",
              "    <tr>\n",
              "      <th>3</th>\n",
              "      <td>1.0</td>\n",
              "      <td>1.0</td>\n",
              "      <td>0.0</td>\n",
              "      <td>0.0</td>\n",
              "      <td>0.0</td>\n",
              "      <td>0.0</td>\n",
              "      <td>0.0</td>\n",
              "      <td>0.0</td>\n",
              "      <td>0.0</td>\n",
              "      <td>0.0</td>\n",
              "      <td>...</td>\n",
              "      <td>0.0</td>\n",
              "      <td>0.0</td>\n",
              "      <td>0.0</td>\n",
              "      <td>0.0</td>\n",
              "      <td>0.0</td>\n",
              "      <td>0.0</td>\n",
              "      <td>0.0</td>\n",
              "      <td>0.0</td>\n",
              "      <td>0.0</td>\n",
              "      <td>Fungal infection</td>\n",
              "    </tr>\n",
              "    <tr>\n",
              "      <th>4</th>\n",
              "      <td>1.0</td>\n",
              "      <td>1.0</td>\n",
              "      <td>1.0</td>\n",
              "      <td>0.0</td>\n",
              "      <td>0.0</td>\n",
              "      <td>0.0</td>\n",
              "      <td>0.0</td>\n",
              "      <td>0.0</td>\n",
              "      <td>0.0</td>\n",
              "      <td>0.0</td>\n",
              "      <td>...</td>\n",
              "      <td>0.0</td>\n",
              "      <td>0.0</td>\n",
              "      <td>0.0</td>\n",
              "      <td>0.0</td>\n",
              "      <td>0.0</td>\n",
              "      <td>0.0</td>\n",
              "      <td>0.0</td>\n",
              "      <td>0.0</td>\n",
              "      <td>0.0</td>\n",
              "      <td>Fungal infection</td>\n",
              "    </tr>\n",
              "  </tbody>\n",
              "</table>\n",
              "<p>5 rows × 177 columns</p>\n",
              "</div>\n",
              "      <button class=\"colab-df-convert\" onclick=\"convertToInteractive('df-702f90fe-b468-4223-9f79-fbf184eaeaea')\"\n",
              "              title=\"Convert this dataframe to an interactive table.\"\n",
              "              style=\"display:none;\">\n",
              "        \n",
              "  <svg xmlns=\"http://www.w3.org/2000/svg\" height=\"24px\"viewBox=\"0 0 24 24\"\n",
              "       width=\"24px\">\n",
              "    <path d=\"M0 0h24v24H0V0z\" fill=\"none\"/>\n",
              "    <path d=\"M18.56 5.44l.94 2.06.94-2.06 2.06-.94-2.06-.94-.94-2.06-.94 2.06-2.06.94zm-11 1L8.5 8.5l.94-2.06 2.06-.94-2.06-.94L8.5 2.5l-.94 2.06-2.06.94zm10 10l.94 2.06.94-2.06 2.06-.94-2.06-.94-.94-2.06-.94 2.06-2.06.94z\"/><path d=\"M17.41 7.96l-1.37-1.37c-.4-.4-.92-.59-1.43-.59-.52 0-1.04.2-1.43.59L10.3 9.45l-7.72 7.72c-.78.78-.78 2.05 0 2.83L4 21.41c.39.39.9.59 1.41.59.51 0 1.02-.2 1.41-.59l7.78-7.78 2.81-2.81c.8-.78.8-2.07 0-2.86zM5.41 20L4 18.59l7.72-7.72 1.47 1.35L5.41 20z\"/>\n",
              "  </svg>\n",
              "      </button>\n",
              "      \n",
              "  <style>\n",
              "    .colab-df-container {\n",
              "      display:flex;\n",
              "      flex-wrap:wrap;\n",
              "      gap: 12px;\n",
              "    }\n",
              "\n",
              "    .colab-df-convert {\n",
              "      background-color: #E8F0FE;\n",
              "      border: none;\n",
              "      border-radius: 50%;\n",
              "      cursor: pointer;\n",
              "      display: none;\n",
              "      fill: #1967D2;\n",
              "      height: 32px;\n",
              "      padding: 0 0 0 0;\n",
              "      width: 32px;\n",
              "    }\n",
              "\n",
              "    .colab-df-convert:hover {\n",
              "      background-color: #E2EBFA;\n",
              "      box-shadow: 0px 1px 2px rgba(60, 64, 67, 0.3), 0px 1px 3px 1px rgba(60, 64, 67, 0.15);\n",
              "      fill: #174EA6;\n",
              "    }\n",
              "\n",
              "    [theme=dark] .colab-df-convert {\n",
              "      background-color: #3B4455;\n",
              "      fill: #D2E3FC;\n",
              "    }\n",
              "\n",
              "    [theme=dark] .colab-df-convert:hover {\n",
              "      background-color: #434B5C;\n",
              "      box-shadow: 0px 1px 3px 1px rgba(0, 0, 0, 0.15);\n",
              "      filter: drop-shadow(0px 1px 2px rgba(0, 0, 0, 0.3));\n",
              "      fill: #FFFFFF;\n",
              "    }\n",
              "  </style>\n",
              "\n",
              "      <script>\n",
              "        const buttonEl =\n",
              "          document.querySelector('#df-702f90fe-b468-4223-9f79-fbf184eaeaea button.colab-df-convert');\n",
              "        buttonEl.style.display =\n",
              "          google.colab.kernel.accessAllowed ? 'block' : 'none';\n",
              "\n",
              "        async function convertToInteractive(key) {\n",
              "          const element = document.querySelector('#df-702f90fe-b468-4223-9f79-fbf184eaeaea');\n",
              "          const dataTable =\n",
              "            await google.colab.kernel.invokeFunction('convertToInteractive',\n",
              "                                                     [key], {});\n",
              "          if (!dataTable) return;\n",
              "\n",
              "          const docLinkHtml = 'Like what you see? Visit the ' +\n",
              "            '<a target=\"_blank\" href=https://colab.research.google.com/notebooks/data_table.ipynb>data table notebook</a>'\n",
              "            + ' to learn more about interactive tables.';\n",
              "          element.innerHTML = '';\n",
              "          dataTable['output_type'] = 'display_data';\n",
              "          await google.colab.output.renderOutput(dataTable, element);\n",
              "          const docLink = document.createElement('div');\n",
              "          docLink.innerHTML = docLinkHtml;\n",
              "          element.appendChild(docLink);\n",
              "        }\n",
              "      </script>\n",
              "    </div>\n",
              "  </div>\n",
              "  "
            ]
          },
          "metadata": {},
          "execution_count": 6
        }
      ]
    },
    {
      "cell_type": "code",
      "source": [
        "from sklearn.preprocessing import LabelEncoder\n",
        "from sklearn.model_selection import train_test_split\n",
        "le = LabelEncoder()\n",
        "le.fit(df[[\"disease\"]])\n",
        "X= df[symp_new]\n",
        "y = le.transform(df[[\"disease\"]])\n",
        "np.ravel(y)\n",
        "X_train, X_test, y_train, y_test = train_test_split(X, y, test_size=0.3, random_state=0,stratify=y)"
      ],
      "metadata": {
        "colab": {
          "base_uri": "https://localhost:8080/"
        },
        "id": "7A1h8zgWtj17",
        "outputId": "d38a32af-cddc-427e-f225-2a5975244843"
      },
      "execution_count": null,
      "outputs": [
        {
          "output_type": "stream",
          "name": "stderr",
          "text": [
            "/usr/local/lib/python3.8/dist-packages/sklearn/preprocessing/_label.py:99: DataConversionWarning: A column-vector y was passed when a 1d array was expected. Please change the shape of y to (n_samples, ), for example using ravel().\n",
            "  y = column_or_1d(y, warn=True)\n",
            "/usr/local/lib/python3.8/dist-packages/sklearn/preprocessing/_label.py:134: DataConversionWarning: A column-vector y was passed when a 1d array was expected. Please change the shape of y to (n_samples, ), for example using ravel().\n",
            "  y = column_or_1d(y, dtype=self.classes_.dtype, warn=True)\n"
          ]
        }
      ]
    },
    {
      "cell_type": "code",
      "source": [
        "from sklearn.model_selection import GridSearchCV\n",
        "from sklearn import metrics\n",
        "forest = RandomForestClassifier()\n",
        "forest_params = [{'max_depth': list(range(25, 30)), 'n_estimators': list(range(50, 70))}]\n",
        "clf = GridSearchCV(forest, forest_params, cv = 10, scoring='accuracy')\n",
        "clf.fit(X_train, y_train)\n",
        "print(clf.best_params_)\n",
        "print(clf.best_score_)"
      ],
      "metadata": {
        "colab": {
          "base_uri": "https://localhost:8080/"
        },
        "id": "sM-6Km-FV7Bi",
        "outputId": "153e52c2-8ab5-4bf8-edcc-01ab86444e98"
      },
      "execution_count": null,
      "outputs": [
        {
          "output_type": "stream",
          "name": "stdout",
          "text": [
            "{'max_depth': 25, 'n_estimators': 50}\n",
            "1.0\n"
          ]
        }
      ]
    },
    {
      "cell_type": "code",
      "source": [
        "forest1 = RandomForestClassifier(n_estimators=50, max_depth=25)\n",
        "forest1.fit(X_train, y_train)\n",
        "print(\"Accuracy on training set: {:.3f}\".format(forest1.score(X_train, y_train)))\n",
        "print(\"Accuracy on testing set: {:.3f}\".format(forest1.score(X_test, y_test)))\n",
        "c=0\n",
        "for i in list(forest1.feature_importances_):\n",
        "  if i==0.0:\n",
        "    c+=1\n",
        "print(\"Number of features with no importances: \",c)"
      ],
      "metadata": {
        "colab": {
          "base_uri": "https://localhost:8080/"
        },
        "id": "5yxEVbGovWWn",
        "outputId": "5fab3c77-5d0d-42d7-f70e-5b522dae6371"
      },
      "execution_count": null,
      "outputs": [
        {
          "output_type": "stream",
          "name": "stdout",
          "text": [
            "Accuracy on training set: 1.000\n",
            "Accuracy on testing set: 1.000\n",
            "Number of features with no importances:  4\n"
          ]
        }
      ]
    },
    {
      "cell_type": "code",
      "source": [
        "print(\"Feature importances:\\n{}\".format(forest1.feature_importances_))\n",
        "import matplotlib.pyplot as plt\n",
        "def plot_feature_importances(model):\n",
        "    n_features = X_train.shape[1]\n",
        "    plt.barh(range(n_features), model.feature_importances_, align='center')\n",
        "    plt.yticks(np.arange(n_features), X_train.columns)\n",
        "    plt.xlabel(\"Feature importance\")\n",
        "    plt.ylabel(\"Feature\")\n",
        "plot_feature_importances(forest1)"
      ],
      "metadata": {
        "colab": {
          "base_uri": "https://localhost:8080/",
          "height": 696
        },
        "id": "AJ0QKtI_zknI",
        "outputId": "ef73c73d-513c-427a-8135-356033b57206"
      },
      "execution_count": null,
      "outputs": [
        {
          "output_type": "stream",
          "name": "stdout",
          "text": [
            "Feature importances:\n",
            "[0.01298143 0.00553371 0.01034783 0.00571952 0.00618501 0.00698877\n",
            " 0.01028459 0.01331079 0.00793026 0.00853032 0.00860406 0.01015424\n",
            " 0.0040939  0.         0.01510651 0.00114401 0.00344833 0.00058298\n",
            " 0.00456717 0.01209694 0.00373343 0.00392504 0.00531994 0.00530606\n",
            " 0.00610519 0.01320351 0.00595128 0.00746125 0.00896484 0.00995092\n",
            " 0.00644745 0.00912792 0.00679017 0.01396448 0.01616711 0.00827181\n",
            " 0.0109968  0.01099484 0.00976762 0.00939103 0.01096452 0.0196543\n",
            " 0.0042485  0.00963872 0.00446622 0.00875982 0.00316425 0.00798812\n",
            " 0.00721966 0.00251848 0.01005027 0.00240985 0.00494892 0.00409233\n",
            " 0.005608   0.00446874 0.01119802 0.01040228 0.0146745  0.00485035\n",
            " 0.00553124 0.00627435 0.00630779 0.00800439 0.00586116 0.00366654\n",
            " 0.00815547 0.00397324 0.00256874 0.00058187 0.00243841 0.00510753\n",
            " 0.003531   0.00910352 0.00277981 0.00726329 0.0039114  0.01069803\n",
            " 0.00872175 0.0081373  0.00780371 0.00526845 0.00721012 0.0095555\n",
            " 0.00486356 0.01186071 0.01073502 0.00424757 0.00342282 0.01054761\n",
            " 0.         0.00985015 0.01093548 0.00693774 0.00912127 0.00918554\n",
            " 0.00640309 0.0199449  0.01570557 0.0109338  0.00689986 0.00701446\n",
            " 0.         0.00513724 0.00689904 0.01086108 0.0167572  0.00748188\n",
            " 0.01241918 0.01303876 0.00653748 0.01081274 0.00730809 0.00637224\n",
            " 0.01457775 0.0050157  0.00233195 0.00756768 0.01030457 0.0080111\n",
            " 0.00719429 0.00325752 0.01231736 0.00222908 0.00406856 0.00463672\n",
            " 0.00713985 0.00336993 0.0086247  0.00460216 0.01031145 0.00897404\n",
            " 0.        ]\n"
          ]
        },
        {
          "output_type": "display_data",
          "data": {
            "text/plain": [
              "<Figure size 432x288 with 1 Axes>"
            ],
            "image/png": "[encoded data removed]"
          },
          "metadata": {
            "needs_background": "light"
          }
        }
      ]
    },
    {
      "cell_type": "code",
      "source": [
        "diseases=list(y)\n",
        "disease_dict={}\n",
        "c=0\n",
        "for i in diseases:\n",
        "  c+=1\n",
        "  disease_dict[i]=le.inverse_transform([i])[0]\n",
        "disease_dict"
      ],
      "metadata": {
        "colab": {
          "base_uri": "https://localhost:8080/"
        },
        "id": "fX-IuYAin0A2",
        "outputId": "2abab06f-b122-450f-8d71-f014ebf902c2"
      },
      "execution_count": null,
      "outputs": [
        {
          "output_type": "execute_result",
          "data": {
            "text/plain": [
              "{15: 'Fungal infection',\n",
              " 4: 'Allergy',\n",
              " 16: 'GERD',\n",
              " 9: 'Chronic cholestasis',\n",
              " 14: 'Drug Reaction',\n",
              " 33: 'Peptic ulcer diseae',\n",
              " 1: 'AIDS',\n",
              " 12: 'Diabetes ',\n",
              " 17: 'Gastroenteritis',\n",
              " 6: 'Bronchial Asthma',\n",
              " 23: 'Hypertension ',\n",
              " 30: 'Migraine',\n",
              " 7: 'Cervical spondylosis',\n",
              " 32: 'Paralysis (brain hemorrhage)',\n",
              " 28: 'Jaundice',\n",
              " 29: 'Malaria',\n",
              " 8: 'Chicken pox',\n",
              " 11: 'Dengue',\n",
              " 37: 'Typhoid',\n",
              " 40: 'hepatitis A',\n",
              " 19: 'Hepatitis B',\n",
              " 20: 'Hepatitis C',\n",
              " 21: 'Hepatitis D',\n",
              " 22: 'Hepatitis E',\n",
              " 3: 'Alcoholic hepatitis',\n",
              " 36: 'Tuberculosis',\n",
              " 10: 'Common Cold',\n",
              " 34: 'Pneumonia',\n",
              " 13: 'Dimorphic hemmorhoids(piles)',\n",
              " 18: 'Heart attack',\n",
              " 39: 'Varicose veins',\n",
              " 26: 'Hypothyroidism',\n",
              " 24: 'Hyperthyroidism',\n",
              " 25: 'Hypoglycemia',\n",
              " 31: 'Osteoarthristis',\n",
              " 5: 'Arthritis',\n",
              " 0: '(vertigo) Paroymsal  Positional Vertigo',\n",
              " 2: 'Acne',\n",
              " 38: 'Urinary tract infection',\n",
              " 35: 'Psoriasis',\n",
              " 27: 'Impetigo'}"
            ]
          },
          "metadata": {},
          "execution_count": 14
        }
      ]
    },
    {
      "cell_type": "code",
      "source": [
        "loc=600\n",
        "symp_new=list(symp_new)\n",
        "print(len(symp_new))\n",
        "testx=np.zeros(len(symp_new),dtype=int)\n",
        "testy=data[[\"Disease\"]].iloc[loc-1:loc]\n",
        "sample=np.array(data.iloc[loc-1:loc,1:])\n",
        "for i in list(sample[0]):\n",
        "  if type(i)==str:\n",
        "    i=i[1:]\n",
        "    if i in symp_new:\n",
        "      testx[symp_new.index(i)]=1\n",
        "\n",
        "cls=forest1.predict([testx])  \n",
        "print(sample[0]) \n",
        "print(disease_dict[cls[0]])\n",
        "print(testy)"
      ],
      "metadata": {
        "colab": {
          "base_uri": "https://localhost:8080/"
        },
        "id": "8FO1o0PDeirc",
        "outputId": "f9706346-16ff-4761-94a3-0c26653bbda2"
      },
      "execution_count": null,
      "outputs": [
        {
          "output_type": "stream",
          "name": "stdout",
          "text": [
            "133\n",
            "[' chills' ' fatigue' ' high_fever' ' headache' ' nausea' ' constipation'\n",
            " ' abdominal_pain' ' diarrhoea' ' toxic_look_(typhos)' ' belly_pain' nan\n",
            " nan nan nan nan nan nan]\n",
            "Typhoid\n",
            "     Disease\n",
            "599  Typhoid\n"
          ]
        },
        {
          "output_type": "stream",
          "name": "stderr",
          "text": [
            "/usr/local/lib/python3.8/dist-packages/sklearn/base.py:420: UserWarning: X does not have valid feature names, but RandomForestClassifier was fitted with feature names\n",
            "  warnings.warn(\n"
          ]
        }
      ]
    },
    {
      "cell_type": "code",
      "source": [
        "import pickle\n",
        "file=open(\"randomforest.pkl\",\"wb\")\n",
        "pickle.dump(forest1,file)"
      ],
      "metadata": {
        "id": "as2BJ-ho5YB8"
      },
      "execution_count": null,
      "outputs": []
    },
    {
      "cell_type": "code",
      "source": [
        "import warnings\n",
        "warnings.filterwarnings(\"ignore\", category=UserWarning)"
      ],
      "metadata": {
        "id": "CcYwljdRxpgW"
      },
      "execution_count": null,
      "outputs": []
    },
    {
      "cell_type": "code",
      "source": [
        "correct=0\n",
        "for loc in range(1,4921):\n",
        "  symp_new=list(symp_new)\n",
        "  testx=np.zeros(len(symp_new),dtype=int)\n",
        "  testy=str(data[[\"Disease\"]].iloc[loc-1:loc])\n",
        "  sample=np.array(data.iloc[loc-1:loc,1:])\n",
        "  for i in list(sample[0]):\n",
        "    if type(i)==str:\n",
        "      i=i[1:]\n",
        "      if i in symp_new:\n",
        "        testx[symp_new.index(i)]=1\n",
        "\n",
        "  cls=disease_dict[forest1.predict([testx])[0]] \n",
        "  if cls in testy:\n",
        "    correct+=1\n",
        "\n",
        "print(\"correct predictions; \",correct)\n",
        "print(\"Accuracy: \",(correct/4920)*100)"
      ],
      "metadata": {
        "colab": {
          "base_uri": "https://localhost:8080/"
        },
        "id": "6AbDxzexvrlc",
        "outputId": "640b5e88-ed64-4a89-b05a-01718f339473"
      },
      "execution_count": null,
      "outputs": [
        {
          "output_type": "stream",
          "name": "stdout",
          "text": [
            "correct predictions;  4920\n",
            "Accuracy:  100.0\n"
          ]
        }
      ]
    }
  ]
}